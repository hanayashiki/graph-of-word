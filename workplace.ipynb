{
 "cells": [
  {
   "cell_type": "code",
   "execution_count": 3,
   "metadata": {},
   "outputs": [
    {
     "data": {
      "text/plain": [
       "['At',\n",
       " 'eight',\n",
       " \"o'clock\",\n",
       " 'on',\n",
       " 'Thursday',\n",
       " 'morning',\n",
       " 'Arthur',\n",
       " 'did',\n",
       " \"n't\",\n",
       " 'feel',\n",
       " 'very',\n",
       " 'good']"
      ]
     },
     "execution_count": 3,
     "metadata": {},
     "output_type": "execute_result"
    }
   ],
   "source": [
    "import nltk\n",
    "sentence = \"At eight o'clock on Thursday morning Arthur didn't feel very good\"\n",
    "tokens = nltk.word_tokenize(sentence)\n",
    "tokens"
   ]
  },
  {
   "cell_type": "code",
   "execution_count": 4,
   "metadata": {},
   "outputs": [],
   "source": [
    "import thulac"
   ]
  },
  {
   "cell_type": "code",
   "execution_count": 13,
   "metadata": {},
   "outputs": [
    {
     "name": "stdout",
     "output_type": "stream",
     "text": [
      "Model loaded succeed\n"
     ]
    }
   ],
   "source": [
    "thu1 = thulac.thulac()\n"
   ]
  },
  {
   "cell_type": "code",
   "execution_count": 6,
   "metadata": {},
   "outputs": [
    {
     "name": "stdout",
     "output_type": "stream",
     "text": [
      "我 爱 北京 天安门 ， 天安门 上 太阳 升 ， 卧槽 泥马勒戈壁 ， 我 到底 是 谁\n"
     ]
    }
   ],
   "source": [
    "text = thu1.cut(\"我爱北京天安门，天安门上太阳升，卧槽泥马勒戈壁，我到底是谁\", text=True)  #进行一句话分词\n",
    "print(text)"
   ]
  },
  {
   "cell_type": "code",
   "execution_count": 10,
   "metadata": {},
   "outputs": [
    {
     "name": "stdout",
     "output_type": "stream",
     "text": [
      "爱_v 北京_ns 天安门_ns 天安门_ns 太阳_n 升_v 卧槽泥马勒戈壁_id 是_v\n"
     ]
    }
   ],
   "source": [
    "text = thu1.cut(\"我爱北京天安门，天安门上太阳升，卧槽泥马勒戈壁，，，，，我到底是谁\", text=True)  #进行一句话分词\n",
    "print(text)"
   ]
  },
  {
   "cell_type": "code",
   "execution_count": 14,
   "metadata": {},
   "outputs": [
    {
     "name": "stdout",
     "output_type": "stream",
     "text": [
      "我们_r 可以_v 把_p RPN_x 所_u 对应_v 的_u 那种_r 后_f 缀_v 表达式_n  _d 直接_a 地_u 表示_v 为_v 一_m 棵_q 树_n\n"
     ]
    }
   ],
   "source": [
    "text = thu1.cut(\"我们可以把RPN所对应的那种后缀表达式 直接地表示为一棵树\", text=True)\n",
    "print(text)"
   ]
  },
  {
   "cell_type": "code",
   "execution_count": 15,
   "metadata": {},
   "outputs": [
    {
     "name": "stdout",
     "output_type": "stream",
     "text": [
      "[['我们', 'r'], ['可以', 'v'], ['把', 'p'], ['RPN', 'x'], ['所', 'u'], ['对应', 'v'], ['的', 'u'], ['那种', 'r'], ['后', 'f'], ['缀', 'v'], ['表达式', 'n'], [' ', 'd'], ['直接', 'a'], ['地', 'u'], ['表示', 'v'], ['为', 'v'], ['一', 'm'], ['棵', 'q'], ['树', 'n']]\n"
     ]
    }
   ],
   "source": [
    "text = thu1.cut(\"我们可以把RPN所对应的那种后缀表达式 直接地表示为一棵树\")\n",
    "print(text)"
   ]
  },
  {
   "cell_type": "code",
   "execution_count": 16,
   "metadata": {},
   "outputs": [
    {
     "ename": "KeyError",
     "evalue": "'fuck'",
     "output_type": "error",
     "traceback": [
      "\u001b[1;31m---------------------------------------------------------------------------\u001b[0m",
      "\u001b[1;31mKeyError\u001b[0m                                  Traceback (most recent call last)",
      "\u001b[1;32m<ipython-input-16-6212c5bba2fa>\u001b[0m in \u001b[0;36m<module>\u001b[1;34m()\u001b[0m\n\u001b[0;32m      1\u001b[0m \u001b[0mD\u001b[0m \u001b[1;33m=\u001b[0m \u001b[1;33m{\u001b[0m\u001b[1;33m}\u001b[0m\u001b[1;33m\u001b[0m\u001b[0m\n\u001b[0;32m      2\u001b[0m \u001b[0mD\u001b[0m\u001b[1;33m.\u001b[0m\u001b[0msetdefault\u001b[0m\u001b[1;33m(\u001b[0m\u001b[1;32mNone\u001b[0m\u001b[1;33m)\u001b[0m\u001b[1;33m\u001b[0m\u001b[0m\n\u001b[1;32m----> 3\u001b[1;33m \u001b[0mD\u001b[0m\u001b[1;33m[\u001b[0m\u001b[1;34m'fuck'\u001b[0m\u001b[1;33m]\u001b[0m\u001b[1;33m\u001b[0m\u001b[0m\n\u001b[0m",
      "\u001b[1;31mKeyError\u001b[0m: 'fuck'"
     ]
    }
   ],
   "source": [
    "D = {}\n",
    "D.setdefault(None)\n",
    "D['fuck']"
   ]
  },
  {
   "cell_type": "code",
   "execution_count": 17,
   "metadata": {},
   "outputs": [
    {
     "name": "stdout",
     "output_type": "stream",
     "text": [
      "[['它', 'r'], ['已经', 'd'], ['没有', 'v'], ['任何', 'r'], ['逆序', 'n'], ['的', 'u'], ['紧邻', 'n'], ['对', 'v'], ['了', 'u']]\n"
     ]
    }
   ],
   "source": [
    "text = thu1.cut(\"它已经没有任何逆序的紧邻对了\")\n",
    "print(text)"
   ]
  },
  {
   "cell_type": "code",
   "execution_count": 18,
   "metadata": {},
   "outputs": [
    {
     "name": "stdout",
     "output_type": "stream",
     "text": [
      "[['就', 'd'], ['是', 'v'], ['这个', 'r'], ['向量', 'n'], ['实际', 'n'], ['的', 'u'], ['有效', 'a'], ['的', 'u'], ['规模', 'n']]\n"
     ]
    }
   ],
   "source": [
    "text = thu1.cut(\"就是这个向量实际的有效的规模\")\n",
    "print(text)"
   ]
  },
  {
   "cell_type": "code",
   "execution_count": null,
   "metadata": {},
   "outputs": [],
   "source": []
  }
 ],
 "metadata": {
  "kernelspec": {
   "display_name": "Python 3",
   "language": "python",
   "name": "python3"
  }
 },
 "nbformat": 4,
 "nbformat_minor": 2
}
